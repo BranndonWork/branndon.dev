{
 "cells": [
  {
   "cell_type": "code",
   "execution_count": 20,
   "metadata": {},
   "outputs": [],
   "source": [
    "import pandas as pd\n",
    "import numpy as np\n",
    "from dotenv import load_dotenv\n",
    "import os \n",
    "import psycopg2 \n",
    "import json\n",
    "import re\n",
    "import matplotlib.pyplot as plt\n",
    "from collections import Counter\n",
    "from typing import TypedDict\n",
    "load_dotenv()\n",
    "\n",
    "URL_DB = os.environ.get(\"URL_DB\")\n",
    "CONN = psycopg2.connect(URL_DB)\n",
    "CURSOR = CONN.cursor()\n",
    "\n",
    "DATA_DIR = os.path.join(\"JobsCrawler\", \"src\", \"resources\", \"data\")\n",
    "LOCATIONS_DATA = os.path.join(DATA_DIR, \"WorldLocations.json\")\n",
    "\n",
    "LOCATIONS_DATA = \"/root/JobsCrawler/src/resources/data/WorldLocations.json\"\n"
   ]
  },
  {
   "cell_type": "code",
   "execution_count": null,
   "metadata": {},
   "outputs": [],
   "source": [
    "\n",
    "\n",
    "timestamp = \"2024-05-01 00:00:00.000000\"\n",
    "\n",
    "CURSOR.execute(\n",
    "\tf\"SELECT * FROM main_jobs  WHERE timestamp > '{timestamp}'\"\n",
    ")\n",
    "new_data = CURSOR.fetchall()\n",
    "df = pd.DataFrame(new_data)\n",
    "\n",
    "\n",
    "df.head(25)"
   ]
  },
  {
   "cell_type": "markdown",
   "metadata": {},
   "source": [
    "#### Plot it "
   ]
  },
  {
   "cell_type": "code",
   "execution_count": null,
   "metadata": {},
   "outputs": [],
   "source": [
    "\n",
    "all_tags = df['location_tags'].explode().tolist()\n",
    "\n",
    "print(all_tags)\n",
    "\n",
    "# Count the tags\n",
    "tag_counts = Counter(all_tags)\n",
    "\n",
    "# Sort tags by count in descending order\n",
    "sorted_tags = sorted(tag_counts.items(), key=lambda x: x[1], reverse=True)\n",
    "\n",
    "# Separate tags and counts for plotting\n",
    "tags, counts = zip(*sorted_tags)\n",
    "\n",
    "# Create a bar plot\n",
    "plt.figure(figsize=(55, 12))\n",
    "plt.bar(tags, counts)\n",
    "plt.title('Tag Counts')\n",
    "plt.xlabel('Tags')\n",
    "plt.ylabel('Count')\n",
    "plt.xticks(rotation=45, ha='right')\n",
    "plt.tight_layout()\n",
    "\n",
    "# Show the plot\n",
    "plt.show()\n",
    "\n",
    "# Return the tag counts dictionary\n"
   ]
  }
 ],
 "metadata": {
  "kernelspec": {
   "display_name": "venv",
   "language": "python",
   "name": "python3"
  },
  "language_info": {
   "codemirror_mode": {
    "name": "ipython",
    "version": 3
   },
   "file_extension": ".py",
   "mimetype": "text/x-python",
   "name": "python",
   "nbconvert_exporter": "python",
   "pygments_lexer": "ipython3",
   "version": "3.12.3"
  }
 },
 "nbformat": 4,
 "nbformat_minor": 2
}
